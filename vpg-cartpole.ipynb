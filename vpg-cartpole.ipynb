{
 "cells": [
  {
   "cell_type": "code",
   "execution_count": 2,
   "metadata": {},
   "outputs": [],
   "source": [
    "import tf_deepRL as drl\n",
    "from tf_deepRL.env import load_env\n",
    "from tf_deepRL.agents.policy_gradient import VPG\n",
    "import matplotlib.pyplot as plt\n",
    "import tensorflow as tf\n",
    "import numpy as np"
   ]
  },
  {
   "cell_type": "code",
   "execution_count": 3,
   "metadata": {},
   "outputs": [],
   "source": [
    "env = load_env(provider=\"OpenAI-gym\", name=\"CartPole-v0\", virtual_display=True)"
   ]
  },
  {
   "cell_type": "code",
   "execution_count": 4,
   "metadata": {},
   "outputs": [],
   "source": [
    "def cartpole_model():\n",
    "    model = tf.keras.models.Sequential([\n",
    "      tf.keras.layers.Flatten(),\n",
    "      tf.keras.layers.Dense(units=64, activation='relu'),\n",
    "      tf.keras.layers.Dense(units=32, activation='relu'),\n",
    "      tf.keras.layers.Dense(env.action_space, activation=None)\n",
    "    ])\n",
    "    return model\n",
    "\n",
    "model = cartpole_model()"
   ]
  },
  {
   "cell_type": "code",
   "execution_count": 5,
   "metadata": {},
   "outputs": [],
   "source": [
    "agent = VPG(model, env)"
   ]
  },
  {
   "cell_type": "code",
   "execution_count": 6,
   "metadata": {},
   "outputs": [
    {
     "name": "stdout",
     "output_type": "stream",
     "text": [
      "Episode: 100/700\n",
      "[===========================] - 0s 212ms/episode - rewards: 29.68\n",
      "Episode: 200/700\n",
      "[===========================] - 0s 334ms/episode - rewards: 52.35\n",
      "Episode: 300/700\n",
      "[===========================] - 0s 451ms/episode - rewards: 87.14\n",
      "Episode: 400/700\n",
      "[===========================] - 0s 470ms/episode - rewards: 90.58\n",
      "Episode: 500/700\n",
      "[===========================] - 0s 665ms/episode - rewards: 126.86\n",
      "Episode: 600/700\n",
      "[===========================] - 0s 632ms/episode - rewards: 113.87\n",
      "Episode: 700/700\n",
      "[===========================] - 0s 740ms/episode - rewards: 200.0\n"
     ]
    }
   ],
   "source": [
    "opt = tf.keras.optimizers.Adam(learning_rate=0.001, amsgrad=True)\n",
    "history = agent.train(opt, episodes=700, status_type=\"text\", status_interval=100)"
   ]
  },
  {
   "cell_type": "code",
   "execution_count": 9,
   "metadata": {
    "scrolled": false
   },
   "outputs": [
    {
     "data": {
      "image/png": "[encoded data removed]",
      "text/plain": [
       "<PIL.Image.Image image mode=RGB size=600x400 at 0x7F4D2D5F9590>"
      ]
     },
     "metadata": {},
     "output_type": "display_data"
    },
    {
     "data": {
      "text/plain": [
       "True"
      ]
     },
     "execution_count": 9,
     "metadata": {},
     "output_type": "execute_result"
    }
   ],
   "source": [
    "agent.play(max_steps=100, stop_when_finish=False)"
   ]
  },
  {
   "cell_type": "code",
   "execution_count": null,
   "metadata": {},
   "outputs": [],
   "source": []
  }
 ],
 "metadata": {
  "kernelspec": {
   "display_name": "Python 3",
   "language": "python",
   "name": "python3"
  },
  "language_info": {
   "codemirror_mode": {
    "name": "ipython",
    "version": 3
   },
   "file_extension": ".py",
   "mimetype": "text/x-python",
   "name": "python",
   "nbconvert_exporter": "python",
   "pygments_lexer": "ipython3",
   "version": "3.7.6"
  }
 },
 "nbformat": 4,
 "nbformat_minor": 4
}
